{
 "cells": [
  {
   "cell_type": "code",
   "execution_count": 73,
   "metadata": {},
   "outputs": [],
   "source": [
    "a=[1,2,3,4,5]"
   ]
  },
  {
   "cell_type": "code",
   "execution_count": 74,
   "metadata": {},
   "outputs": [
    {
     "data": {
      "text/plain": [
       "list"
      ]
     },
     "execution_count": 74,
     "metadata": {},
     "output_type": "execute_result"
    }
   ],
   "source": [
    "type(a)"
   ]
  },
  {
   "cell_type": "code",
   "execution_count": 75,
   "metadata": {},
   "outputs": [
    {
     "data": {
      "text/plain": [
       "140736652261152"
      ]
     },
     "execution_count": 75,
     "metadata": {},
     "output_type": "execute_result"
    }
   ],
   "source": [
    "id(a[0])"
   ]
  },
  {
   "cell_type": "code",
   "execution_count": 76,
   "metadata": {},
   "outputs": [
    {
     "data": {
      "text/plain": [
       "'0x7fffce2a3720'"
      ]
     },
     "execution_count": 76,
     "metadata": {},
     "output_type": "execute_result"
    }
   ],
   "source": [
    "hex(id(a[0]))"
   ]
  },
  {
   "cell_type": "code",
   "execution_count": 77,
   "metadata": {},
   "outputs": [
    {
     "data": {
      "text/plain": [
       "'0x7fffce2a3760'"
      ]
     },
     "execution_count": 77,
     "metadata": {},
     "output_type": "execute_result"
    }
   ],
   "source": [
    "hex(id(a[2]))"
   ]
  },
  {
   "cell_type": "code",
   "execution_count": 78,
   "metadata": {},
   "outputs": [
    {
     "data": {
      "text/plain": [
       "'0x7fffce2a3780'"
      ]
     },
     "execution_count": 78,
     "metadata": {},
     "output_type": "execute_result"
    }
   ],
   "source": [
    "hex(id(a[3]))"
   ]
  },
  {
   "cell_type": "code",
   "execution_count": 79,
   "metadata": {},
   "outputs": [
    {
     "data": {
      "text/plain": [
       "'0x7fffce2a3760'"
      ]
     },
     "execution_count": 79,
     "metadata": {},
     "output_type": "execute_result"
    }
   ],
   "source": [
    "hex(id(a[2]))"
   ]
  },
  {
   "cell_type": "code",
   "execution_count": 80,
   "metadata": {},
   "outputs": [
    {
     "name": "stdout",
     "output_type": "stream",
     "text": [
      "1\n",
      "0x7fffce2a3720\n",
      "2\n",
      "0x7fffce2a3740\n",
      "3\n",
      "0x7fffce2a3760\n",
      "4\n",
      "0x7fffce2a3780\n",
      "5\n",
      "0x7fffce2a37a0\n"
     ]
    }
   ],
   "source": [
    "for i in a:\n",
    "    print(i)\n",
    "    print(hex(id(i)))"
   ]
  },
  {
   "cell_type": "code",
   "execution_count": 81,
   "metadata": {},
   "outputs": [
    {
     "data": {
      "text/plain": [
       "2"
      ]
     },
     "execution_count": 81,
     "metadata": {},
     "output_type": "execute_result"
    }
   ],
   "source": [
    "a.index(3)"
   ]
  },
  {
   "cell_type": "code",
   "execution_count": 82,
   "metadata": {},
   "outputs": [],
   "source": [
    "class singly_linked_list:\n",
    "    def __init__(self,data):\n",
    "        self.data=data\n",
    "        self.next_node_addr=None"
   ]
  },
  {
   "cell_type": "code",
   "execution_count": 83,
   "metadata": {},
   "outputs": [],
   "source": [
    "first_node=singly_linked_list(\"a@gmail.com\")"
   ]
  },
  {
   "cell_type": "code",
   "execution_count": 84,
   "metadata": {},
   "outputs": [],
   "source": [
    "second_node=singly_linked_list(\"b@gmail.com\")"
   ]
  },
  {
   "cell_type": "code",
   "execution_count": 85,
   "metadata": {},
   "outputs": [],
   "source": [
    "third_node=singly_linked_list(\"c@gmail.com\")"
   ]
  },
  {
   "cell_type": "code",
   "execution_count": 86,
   "metadata": {},
   "outputs": [
    {
     "data": {
      "text/plain": [
       "<__main__.singly_linked_list at 0x166985f8340>"
      ]
     },
     "execution_count": 86,
     "metadata": {},
     "output_type": "execute_result"
    }
   ],
   "source": [
    "first_node"
   ]
  },
  {
   "cell_type": "code",
   "execution_count": 87,
   "metadata": {},
   "outputs": [
    {
     "data": {
      "text/plain": [
       "<__main__.singly_linked_list at 0x166986fcd60>"
      ]
     },
     "execution_count": 87,
     "metadata": {},
     "output_type": "execute_result"
    }
   ],
   "source": [
    "second_node"
   ]
  },
  {
   "cell_type": "code",
   "execution_count": 88,
   "metadata": {},
   "outputs": [
    {
     "data": {
      "text/plain": [
       "<__main__.singly_linked_list at 0x166985f85b0>"
      ]
     },
     "execution_count": 88,
     "metadata": {},
     "output_type": "execute_result"
    }
   ],
   "source": [
    "third_node"
   ]
  },
  {
   "cell_type": "code",
   "execution_count": 89,
   "metadata": {},
   "outputs": [
    {
     "data": {
      "text/plain": [
       "{'data': 'a@gmail.com', 'next_node_addr': None}"
      ]
     },
     "execution_count": 89,
     "metadata": {},
     "output_type": "execute_result"
    }
   ],
   "source": [
    "first_node.__dict__"
   ]
  },
  {
   "cell_type": "code",
   "execution_count": 90,
   "metadata": {},
   "outputs": [
    {
     "data": {
      "text/plain": [
       "{'data': 'b@gmail.com', 'next_node_addr': None}"
      ]
     },
     "execution_count": 90,
     "metadata": {},
     "output_type": "execute_result"
    }
   ],
   "source": [
    "second_node.__dict__"
   ]
  },
  {
   "cell_type": "code",
   "execution_count": 91,
   "metadata": {},
   "outputs": [
    {
     "data": {
      "text/plain": [
       "{'data': 'c@gmail.com', 'next_node_addr': None}"
      ]
     },
     "execution_count": 91,
     "metadata": {},
     "output_type": "execute_result"
    }
   ],
   "source": [
    "third_node.__dict__"
   ]
  },
  {
   "cell_type": "code",
   "execution_count": 92,
   "metadata": {},
   "outputs": [],
   "source": [
    "first_node.next_node_addr=second_node"
   ]
  },
  {
   "cell_type": "code",
   "execution_count": 93,
   "metadata": {},
   "outputs": [],
   "source": [
    "second_node.next_node_addr=third_node"
   ]
  },
  {
   "cell_type": "code",
   "execution_count": 94,
   "metadata": {},
   "outputs": [
    {
     "data": {
      "text/plain": [
       "{'data': 'a@gmail.com',\n",
       " 'next_node_addr': <__main__.singly_linked_list at 0x166986fcd60>}"
      ]
     },
     "execution_count": 94,
     "metadata": {},
     "output_type": "execute_result"
    }
   ],
   "source": [
    "first_node.__dict__"
   ]
  },
  {
   "cell_type": "code",
   "execution_count": 95,
   "metadata": {},
   "outputs": [
    {
     "data": {
      "text/plain": [
       "{'data': 'b@gmail.com',\n",
       " 'next_node_addr': <__main__.singly_linked_list at 0x166985f85b0>}"
      ]
     },
     "execution_count": 95,
     "metadata": {},
     "output_type": "execute_result"
    }
   ],
   "source": [
    "second_node.__dict__"
   ]
  },
  {
   "cell_type": "code",
   "execution_count": 96,
   "metadata": {},
   "outputs": [
    {
     "data": {
      "text/plain": [
       "{'data': 'c@gmail.com', 'next_node_addr': None}"
      ]
     },
     "execution_count": 96,
     "metadata": {},
     "output_type": "execute_result"
    }
   ],
   "source": [
    "third_node.__dict__"
   ]
  },
  {
   "cell_type": "code",
   "execution_count": 97,
   "metadata": {},
   "outputs": [],
   "source": [
    "head=first_node"
   ]
  },
  {
   "cell_type": "code",
   "execution_count": 98,
   "metadata": {},
   "outputs": [
    {
     "data": {
      "text/plain": [
       "<__main__.singly_linked_list at 0x166985f8340>"
      ]
     },
     "execution_count": 98,
     "metadata": {},
     "output_type": "execute_result"
    }
   ],
   "source": [
    "head"
   ]
  },
  {
   "cell_type": "code",
   "execution_count": 99,
   "metadata": {},
   "outputs": [
    {
     "data": {
      "text/plain": [
       "<__main__.singly_linked_list at 0x166985f8340>"
      ]
     },
     "execution_count": 99,
     "metadata": {},
     "output_type": "execute_result"
    }
   ],
   "source": [
    "first_node"
   ]
  },
  {
   "cell_type": "code",
   "execution_count": 100,
   "metadata": {},
   "outputs": [
    {
     "data": {
      "text/plain": [
       "'a@gmail.com'"
      ]
     },
     "execution_count": 100,
     "metadata": {},
     "output_type": "execute_result"
    }
   ],
   "source": [
    "head.data"
   ]
  },
  {
   "cell_type": "code",
   "execution_count": 101,
   "metadata": {},
   "outputs": [
    {
     "data": {
      "text/plain": [
       "'b@gmail.com'"
      ]
     },
     "execution_count": 101,
     "metadata": {},
     "output_type": "execute_result"
    }
   ],
   "source": [
    "head.next_node_addr.data"
   ]
  },
  {
   "cell_type": "code",
   "execution_count": 102,
   "metadata": {},
   "outputs": [
    {
     "data": {
      "text/plain": [
       "'c@gmail.com'"
      ]
     },
     "execution_count": 102,
     "metadata": {},
     "output_type": "execute_result"
    }
   ],
   "source": [
    "head.next_node_addr.next_node_addr.data"
   ]
  },
  {
   "cell_type": "code",
   "execution_count": 103,
   "metadata": {},
   "outputs": [],
   "source": [
    "head.next_node_addr.next_node_addr.next_node_addr"
   ]
  },
  {
   "cell_type": "code",
   "execution_count": 104,
   "metadata": {},
   "outputs": [
    {
     "name": "stdout",
     "output_type": "stream",
     "text": [
      "a@gmail.com\n",
      "b@gmail.com\n",
      "c@gmail.com\n"
     ]
    }
   ],
   "source": [
    "#Traversal in singly ll\n",
    "while head is not None:\n",
    "    print(head.data)\n",
    "    head=head.next_node_addr"
   ]
  },
  {
   "cell_type": "code",
   "execution_count": 105,
   "metadata": {},
   "outputs": [],
   "source": [
    "fourth_node=singly_linked_list(\"d@gmail.com\")\n",
    "third_node.next_node_addr=fourth_node"
   ]
  },
  {
   "cell_type": "code",
   "execution_count": 114,
   "metadata": {
    "scrolled": false
   },
   "outputs": [
    {
     "name": "stdout",
     "output_type": "stream",
     "text": [
      "a@gmail.com\n",
      "b@gmail.com\n",
      "c@gmail.com\n",
      "d@gmail.com\n"
     ]
    }
   ],
   "source": [
    "#Traversal in singly ll\n",
    "head=first_node\n",
    "while head is not None:\n",
    "    print(head.data)\n",
    "    head=head.next_node_addr"
   ]
  },
  {
   "cell_type": "code",
   "execution_count": 109,
   "metadata": {},
   "outputs": [],
   "source": [
    "head"
   ]
  },
  {
   "cell_type": "code",
   "execution_count": 116,
   "metadata": {},
   "outputs": [],
   "source": [
    "#circular list\n",
    "fourth_node.next_node_addr=first_node"
   ]
  },
  {
   "cell_type": "code",
   "execution_count": 117,
   "metadata": {},
   "outputs": [
    {
     "name": "stdout",
     "output_type": "stream",
     "text": [
      "a@gmail.com\n",
      "b@gmail.com\n",
      "c@gmail.com\n",
      "d@gmail.com\n",
      "a@gmail.com\n",
      "b@gmail.com\n",
      "c@gmail.com\n",
      "d@gmail.com\n",
      "a@gmail.com\n",
      "b@gmail.com\n",
      "c@gmail.com\n",
      "d@gmail.com\n",
      "a@gmail.com\n",
      "b@gmail.com\n",
      "c@gmail.com\n",
      "d@gmail.com\n",
      "a@gmail.com\n",
      "b@gmail.com\n",
      "c@gmail.com\n",
      "d@gmail.com\n",
      "a@gmail.com\n",
      "b@gmail.com\n",
      "c@gmail.com\n",
      "d@gmail.com\n",
      "a@gmail.com\n",
      "b@gmail.com\n",
      "c@gmail.com\n",
      "d@gmail.com\n",
      "a@gmail.com\n",
      "b@gmail.com\n",
      "c@gmail.com\n",
      "d@gmail.com\n",
      "a@gmail.com\n",
      "b@gmail.com\n",
      "c@gmail.com\n",
      "d@gmail.com\n",
      "a@gmail.com\n",
      "b@gmail.com\n",
      "c@gmail.com\n",
      "d@gmail.com\n",
      "a@gmail.com\n",
      "b@gmail.com\n",
      "c@gmail.com\n",
      "d@gmail.com\n",
      "a@gmail.com\n",
      "b@gmail.com\n",
      "c@gmail.com\n",
      "d@gmail.com\n",
      "a@gmail.com\n",
      "b@gmail.com\n",
      "c@gmail.com\n",
      "d@gmail.com\n",
      "a@gmail.com\n",
      "b@gmail.com\n",
      "c@gmail.com\n",
      "d@gmail.com\n",
      "a@gmail.com\n",
      "b@gmail.com\n",
      "c@gmail.com\n",
      "d@gmail.com\n",
      "a@gmail.com\n",
      "b@gmail.com\n",
      "c@gmail.com\n",
      "d@gmail.com\n",
      "a@gmail.com\n",
      "b@gmail.com\n",
      "c@gmail.com\n",
      "d@gmail.com\n",
      "a@gmail.com\n",
      "b@gmail.com\n",
      "c@gmail.com\n",
      "d@gmail.com\n",
      "a@gmail.com\n",
      "b@gmail.com\n",
      "c@gmail.com\n",
      "d@gmail.com\n",
      "a@gmail.com\n",
      "b@gmail.com\n",
      "c@gmail.com\n",
      "d@gmail.com\n",
      "a@gmail.com\n",
      "b@gmail.com\n",
      "c@gmail.com\n",
      "d@gmail.com\n",
      "a@gmail.com\n",
      "b@gmail.com\n",
      "c@gmail.com\n",
      "d@gmail.com\n",
      "a@gmail.com\n",
      "b@gmail.com\n",
      "c@gmail.com\n",
      "d@gmail.com\n",
      "a@gmail.com\n",
      "b@gmail.com\n",
      "c@gmail.com\n",
      "d@gmail.com\n"
     ]
    },
    {
     "ename": "KeyboardInterrupt",
     "evalue": "",
     "output_type": "error",
     "traceback": [
      "\u001b[1;31m---------------------------------------------------------------------------\u001b[0m",
      "\u001b[1;31mKeyboardInterrupt\u001b[0m                         Traceback (most recent call last)",
      "\u001b[1;32m<ipython-input-117-f4914386f22f>\u001b[0m in \u001b[0;36m<module>\u001b[1;34m\u001b[0m\n\u001b[0;32m      5\u001b[0m     \u001b[0mprint\u001b[0m\u001b[1;33m(\u001b[0m\u001b[0mhead\u001b[0m\u001b[1;33m.\u001b[0m\u001b[0mdata\u001b[0m\u001b[1;33m)\u001b[0m\u001b[1;33m\u001b[0m\u001b[1;33m\u001b[0m\u001b[0m\n\u001b[0;32m      6\u001b[0m     \u001b[0mhead\u001b[0m\u001b[1;33m=\u001b[0m\u001b[0mhead\u001b[0m\u001b[1;33m.\u001b[0m\u001b[0mnext_node_addr\u001b[0m\u001b[1;33m\u001b[0m\u001b[1;33m\u001b[0m\u001b[0m\n\u001b[1;32m----> 7\u001b[1;33m     \u001b[0mtime\u001b[0m\u001b[1;33m.\u001b[0m\u001b[0msleep\u001b[0m\u001b[1;33m(\u001b[0m\u001b[1;36m1\u001b[0m\u001b[1;33m)\u001b[0m\u001b[1;33m\u001b[0m\u001b[1;33m\u001b[0m\u001b[0m\n\u001b[0m",
      "\u001b[1;31mKeyboardInterrupt\u001b[0m: "
     ]
    }
   ],
   "source": [
    "#Traversal in singly ll\n",
    "import time\n",
    "head=first_node\n",
    "while head is not None:\n",
    "    print(head.data)\n",
    "    head=head.next_node_addr\n",
    "    time.sleep(1)"
   ]
  },
  {
   "cell_type": "code",
   "execution_count": 120,
   "metadata": {},
   "outputs": [],
   "source": [
    "fifth_node=singly_linked_list(\"e@gmail.com\")\n",
    "fourth_node.next_node_addr=fifth_node\n",
    "fifth_node.next_node_addr=first_node"
   ]
  },
  {
   "cell_type": "code",
   "execution_count": 121,
   "metadata": {},
   "outputs": [
    {
     "name": "stdout",
     "output_type": "stream",
     "text": [
      "a@gmail.com\n",
      "b@gmail.com\n",
      "c@gmail.com\n",
      "d@gmail.com\n",
      "e@gmail.com\n",
      "a@gmail.com\n",
      "b@gmail.com\n",
      "c@gmail.com\n",
      "d@gmail.com\n"
     ]
    },
    {
     "ename": "KeyboardInterrupt",
     "evalue": "",
     "output_type": "error",
     "traceback": [
      "\u001b[1;31m---------------------------------------------------------------------------\u001b[0m",
      "\u001b[1;31mKeyboardInterrupt\u001b[0m                         Traceback (most recent call last)",
      "\u001b[1;32m<ipython-input-121-f4914386f22f>\u001b[0m in \u001b[0;36m<module>\u001b[1;34m\u001b[0m\n\u001b[0;32m      5\u001b[0m     \u001b[0mprint\u001b[0m\u001b[1;33m(\u001b[0m\u001b[0mhead\u001b[0m\u001b[1;33m.\u001b[0m\u001b[0mdata\u001b[0m\u001b[1;33m)\u001b[0m\u001b[1;33m\u001b[0m\u001b[1;33m\u001b[0m\u001b[0m\n\u001b[0;32m      6\u001b[0m     \u001b[0mhead\u001b[0m\u001b[1;33m=\u001b[0m\u001b[0mhead\u001b[0m\u001b[1;33m.\u001b[0m\u001b[0mnext_node_addr\u001b[0m\u001b[1;33m\u001b[0m\u001b[1;33m\u001b[0m\u001b[0m\n\u001b[1;32m----> 7\u001b[1;33m     \u001b[0mtime\u001b[0m\u001b[1;33m.\u001b[0m\u001b[0msleep\u001b[0m\u001b[1;33m(\u001b[0m\u001b[1;36m1\u001b[0m\u001b[1;33m)\u001b[0m\u001b[1;33m\u001b[0m\u001b[1;33m\u001b[0m\u001b[0m\n\u001b[0m",
      "\u001b[1;31mKeyboardInterrupt\u001b[0m: "
     ]
    }
   ],
   "source": [
    "#Traversal in singly ll\n",
    "import time\n",
    "head=first_node\n",
    "while head is not None:\n",
    "    print(head.data)\n",
    "    head=head.next_node_addr\n",
    "    time.sleep(1)"
   ]
  },
  {
   "cell_type": "code",
   "execution_count": 122,
   "metadata": {},
   "outputs": [],
   "source": [
    "class doubly_linked_list:\n",
    "    def __init__(self,data):\n",
    "        self.data=data\n",
    "        self.next_node_addr=None\n",
    "        self.prev_node_addr=None"
   ]
  },
  {
   "cell_type": "code",
   "execution_count": 123,
   "metadata": {},
   "outputs": [],
   "source": [
    "first_node=doubly_linked_list(\"a@gmail.com\")"
   ]
  },
  {
   "cell_type": "code",
   "execution_count": 124,
   "metadata": {},
   "outputs": [],
   "source": [
    "second_node=doubly_linked_list(\"b@gmail.com\")"
   ]
  },
  {
   "cell_type": "code",
   "execution_count": 125,
   "metadata": {},
   "outputs": [],
   "source": [
    "third_node=doubly_linked_list(\"c@gmail.com\")"
   ]
  },
  {
   "cell_type": "code",
   "execution_count": 126,
   "metadata": {},
   "outputs": [],
   "source": [
    "fourth_node=doubly_linked_list(\"d@gmail.com\")"
   ]
  },
  {
   "cell_type": "code",
   "execution_count": 127,
   "metadata": {},
   "outputs": [],
   "source": [
    "first_node.next_node_addr=second_node"
   ]
  },
  {
   "cell_type": "code",
   "execution_count": 128,
   "metadata": {},
   "outputs": [],
   "source": [
    "second_node.next_node_addr=third_node"
   ]
  },
  {
   "cell_type": "code",
   "execution_count": 129,
   "metadata": {},
   "outputs": [],
   "source": [
    "third_node.next_node_addr=fourth_node"
   ]
  },
  {
   "cell_type": "code",
   "execution_count": 130,
   "metadata": {},
   "outputs": [],
   "source": [
    "first_node.prev_node_addr=None"
   ]
  },
  {
   "cell_type": "code",
   "execution_count": 131,
   "metadata": {},
   "outputs": [],
   "source": [
    "second_node.prev_node_addr=first_node"
   ]
  },
  {
   "cell_type": "code",
   "execution_count": 132,
   "metadata": {},
   "outputs": [],
   "source": [
    "third_node.prev_node_addr=second_node"
   ]
  },
  {
   "cell_type": "code",
   "execution_count": 133,
   "metadata": {},
   "outputs": [],
   "source": [
    "fourth_node.prev_node_addr=third_node"
   ]
  },
  {
   "cell_type": "code",
   "execution_count": 134,
   "metadata": {},
   "outputs": [
    {
     "name": "stdout",
     "output_type": "stream",
     "text": [
      "a@gmail.com\n",
      "b@gmail.com\n",
      "c@gmail.com\n",
      "d@gmail.com\n"
     ]
    }
   ],
   "source": [
    "#Traversal in doubly ll: forward\n",
    "import time\n",
    "head=first_node\n",
    "while head is not None:\n",
    "    print(head.data)\n",
    "    head=head.next_node_addr\n",
    "    time.sleep(1)"
   ]
  },
  {
   "cell_type": "code",
   "execution_count": 136,
   "metadata": {},
   "outputs": [
    {
     "name": "stdout",
     "output_type": "stream",
     "text": [
      "d@gmail.com\n",
      "c@gmail.com\n",
      "b@gmail.com\n",
      "a@gmail.com\n"
     ]
    }
   ],
   "source": [
    "#Traversal in doubly ll: reverse\n",
    "import time\n",
    "tail=fourth_node\n",
    "while tail is not None:\n",
    "    print(tail.data)\n",
    "    tail=tail.prev_node_addr\n",
    "    time.sleep(1)"
   ]
  },
  {
   "cell_type": "code",
   "execution_count": null,
   "metadata": {},
   "outputs": [],
   "source": []
  }
 ],
 "metadata": {
  "kernelspec": {
   "display_name": "Python 3",
   "language": "python",
   "name": "python3"
  },
  "language_info": {
   "codemirror_mode": {
    "name": "ipython",
    "version": 3
   },
   "file_extension": ".py",
   "mimetype": "text/x-python",
   "name": "python",
   "nbconvert_exporter": "python",
   "pygments_lexer": "ipython3",
   "version": "3.8.3"
  }
 },
 "nbformat": 4,
 "nbformat_minor": 4
}
