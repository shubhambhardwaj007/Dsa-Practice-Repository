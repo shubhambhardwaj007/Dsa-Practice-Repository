{
 "cells": [
  {
   "cell_type": "code",
   "execution_count": 1,
   "id": "955919ff",
   "metadata": {},
   "outputs": [],
   "source": [
    "linkedin_network = {\n",
    "    \"vimal\" : [\"harry\",\"eric\",\"rahul\"],\n",
    "    \"harry\" : [\"vimal\",\"eric\"],\n",
    "    \"eric\"  : [\"harry\",\"vimal\",\"raj\"],\n",
    "    \"raj\"   : [\"eric\",\"tom\"],\n",
    "    \"tom\"   : [\"rahul\",\"raj\"],\n",
    "    \"rahul\" : [\"vimal\",\"tom\"]\n",
    "}"
   ]
  },
  {
   "cell_type": "code",
   "execution_count": 11,
   "id": "1e04a76c",
   "metadata": {},
   "outputs": [],
   "source": [
    "class Graph:\n",
    "    def __init__(self,gdict=None):\n",
    "        self.gdict = gdict\n",
    "    def add_node(self,nodename):\n",
    "        if nodename not in self.gdict.keys():\n",
    "            self.gdict[nodename] = []\n",
    "        else:\n",
    "            print(\"Node already exists\")\n",
    "    def add_connection(self,fromNode,toNode):\n",
    "        if fromNode not in self.gdict.keys():\n",
    "            self.add_node(fromNode)\n",
    "        if toNode not in self.gdict.keys():\n",
    "            self.add_node(toNode)\n",
    "        if toNode not in self.gdict[fromNode] and fromNode not in self.gdict[toNode]:\n",
    "            self.gdict[fromNode].append(toNode)\n",
    "            self.gdict[toNode].append(fromNode)\n",
    "        else:\n",
    "            print(\"Connection already exists\")\n",
    "    def count_connection(self,nodename):\n",
    "        return(len(self.gdict[nodename]))\n",
    "    def bfs_traversal(self,start_node):\n",
    "        queue = [start_node]\n",
    "        visited_node_queue = [start_node]\n",
    "        while queue:\n",
    "            current_vertex = queue.pop(0)\n",
    "            print(current_vertex)\n",
    "            for adjacent_node in self.gdict[current_vertex]:\n",
    "                if adjacent_node not in visited_node_queue:\n",
    "                    queue.append(adjacent_node)\n",
    "                    visited_node_queue.append(adjacent_node)\n",
    "                \n",
    "            "
   ]
  },
  {
   "cell_type": "code",
   "execution_count": 12,
   "id": "22d4a03a",
   "metadata": {},
   "outputs": [],
   "source": [
    "object1 = Graph(linkedin_network)"
   ]
  },
  {
   "cell_type": "code",
   "execution_count": 13,
   "id": "07860d73",
   "metadata": {},
   "outputs": [
    {
     "data": {
      "text/plain": [
       "{'vimal': ['harry', 'eric', 'rahul'],\n",
       " 'harry': ['vimal', 'eric'],\n",
       " 'eric': ['harry', 'vimal', 'raj'],\n",
       " 'raj': ['eric', 'tom'],\n",
       " 'tom': ['rahul', 'raj'],\n",
       " 'rahul': ['vimal', 'tom']}"
      ]
     },
     "execution_count": 13,
     "metadata": {},
     "output_type": "execute_result"
    }
   ],
   "source": [
    "object1.gdict"
   ]
  },
  {
   "cell_type": "code",
   "execution_count": 14,
   "id": "9dc737b5",
   "metadata": {},
   "outputs": [
    {
     "name": "stdout",
     "output_type": "stream",
     "text": [
      "tom\n",
      "rahul\n",
      "raj\n",
      "vimal\n",
      "eric\n",
      "harry\n"
     ]
    }
   ],
   "source": [
    "object1.bfs_traversal(\"tom\")"
   ]
  },
  {
   "cell_type": "code",
   "execution_count": null,
   "id": "869e0537",
   "metadata": {},
   "outputs": [],
   "source": []
  }
 ],
 "metadata": {
  "kernelspec": {
   "display_name": "Python 3",
   "language": "python",
   "name": "python3"
  },
  "language_info": {
   "codemirror_mode": {
    "name": "ipython",
    "version": 3
   },
   "file_extension": ".py",
   "mimetype": "text/x-python",
   "name": "python",
   "nbconvert_exporter": "python",
   "pygments_lexer": "ipython3",
   "version": "3.7.10"
  }
 },
 "nbformat": 4,
 "nbformat_minor": 5
}
