{
 "cells": [
  {
   "cell_type": "code",
   "execution_count": 1,
   "id": "a59c86d2",
   "metadata": {},
   "outputs": [],
   "source": [
    "#dictonary\n",
    "a = { \"sno\" : 1, \"name\" : \"vimal\", \"remarks\" : \"ok\"}"
   ]
  },
  {
   "cell_type": "code",
   "execution_count": 2,
   "id": "5dcd1138",
   "metadata": {},
   "outputs": [
    {
     "data": {
      "text/plain": [
       "dict"
      ]
     },
     "execution_count": 2,
     "metadata": {},
     "output_type": "execute_result"
    }
   ],
   "source": [
    "type(a)"
   ]
  },
  {
   "cell_type": "code",
   "execution_count": 3,
   "id": "644f9a7c",
   "metadata": {},
   "outputs": [
    {
     "data": {
      "text/plain": [
       "1"
      ]
     },
     "execution_count": 3,
     "metadata": {},
     "output_type": "execute_result"
    }
   ],
   "source": [
    "a[\"sno\"]"
   ]
  },
  {
   "cell_type": "code",
   "execution_count": 4,
   "id": "feaa0aab",
   "metadata": {},
   "outputs": [
    {
     "data": {
      "text/plain": [
       "'vimal'"
      ]
     },
     "execution_count": 4,
     "metadata": {},
     "output_type": "execute_result"
    }
   ],
   "source": [
    "a[\"name\"]"
   ]
  },
  {
   "cell_type": "code",
   "execution_count": 5,
   "id": "6958dbdd",
   "metadata": {},
   "outputs": [
    {
     "data": {
      "text/plain": [
       "dict_keys(['sno', 'name', 'remarks'])"
      ]
     },
     "execution_count": 5,
     "metadata": {},
     "output_type": "execute_result"
    }
   ],
   "source": [
    "a.keys()"
   ]
  },
  {
   "cell_type": "code",
   "execution_count": 6,
   "id": "260d3abc",
   "metadata": {},
   "outputs": [
    {
     "data": {
      "text/plain": [
       "dict_values([1, 'vimal', 'ok'])"
      ]
     },
     "execution_count": 6,
     "metadata": {},
     "output_type": "execute_result"
    }
   ],
   "source": [
    "a.values()"
   ]
  },
  {
   "cell_type": "code",
   "execution_count": 7,
   "id": "5cd50d26",
   "metadata": {},
   "outputs": [
    {
     "name": "stdout",
     "output_type": "stream",
     "text": [
      "sno\n",
      "name\n",
      "remarks\n"
     ]
    }
   ],
   "source": [
    "for i in a.keys():\n",
    "    print(i)"
   ]
  },
  {
   "cell_type": "code",
   "execution_count": 8,
   "id": "2121602f",
   "metadata": {},
   "outputs": [
    {
     "name": "stdout",
     "output_type": "stream",
     "text": [
      "1\n",
      "vimal\n",
      "ok\n"
     ]
    }
   ],
   "source": [
    "for i in a.values():\n",
    "    print(i)"
   ]
  },
  {
   "cell_type": "code",
   "execution_count": 9,
   "id": "dc95d9ba",
   "metadata": {},
   "outputs": [
    {
     "data": {
      "text/plain": [
       "'vimal'"
      ]
     },
     "execution_count": 9,
     "metadata": {},
     "output_type": "execute_result"
    }
   ],
   "source": [
    "a[\"name\"]"
   ]
  },
  {
   "cell_type": "code",
   "execution_count": 10,
   "id": "1b8692bf",
   "metadata": {},
   "outputs": [],
   "source": [
    "a[\"mob\"]=\"\""
   ]
  },
  {
   "cell_type": "code",
   "execution_count": 11,
   "id": "1aeebf32",
   "metadata": {},
   "outputs": [
    {
     "name": "stdout",
     "output_type": "stream",
     "text": [
      "sno\n",
      "name\n",
      "remarks\n",
      "mob\n"
     ]
    }
   ],
   "source": [
    "for i in a.keys():\n",
    "    print(i)"
   ]
  },
  {
   "cell_type": "code",
   "execution_count": null,
   "id": "4a79ddba",
   "metadata": {},
   "outputs": [],
   "source": []
  },
  {
   "cell_type": "code",
   "execution_count": 12,
   "id": "1a87af42",
   "metadata": {},
   "outputs": [],
   "source": [
    "linkedin_network = {\n",
    "    \"vimal\" : [\"harry\",\"eric\",\"rahul\"],\n",
    "    \"harry\" : [\"vimal\",\"eric\"],\n",
    "    \"eric\"  : [\"harry\",\"vimal\",\"raj\"],\n",
    "    \"raj\"   : [\"eric\",\"tom\"],\n",
    "    \"tom\"   : [\"rahul\",\"raj\"],\n",
    "    \"rahul\" : [\"vimal\",\"tom\"]\n",
    "}"
   ]
  },
  {
   "cell_type": "code",
   "execution_count": 13,
   "id": "e50e1196",
   "metadata": {},
   "outputs": [
    {
     "data": {
      "text/plain": [
       "{'vimal': ['harry', 'eric', 'rahul'],\n",
       " 'harry': ['vimal', 'eric'],\n",
       " 'eric': ['harry', 'vimal', 'raj'],\n",
       " 'raj': ['eric', 'tom'],\n",
       " 'tom': ['rahul', 'raj'],\n",
       " 'rahul': ['vimal', 'tom']}"
      ]
     },
     "execution_count": 13,
     "metadata": {},
     "output_type": "execute_result"
    }
   ],
   "source": [
    "linkedin_network"
   ]
  },
  {
   "cell_type": "code",
   "execution_count": 14,
   "id": "1e5b459e",
   "metadata": {},
   "outputs": [
    {
     "name": "stdout",
     "output_type": "stream",
     "text": [
      "vimal\n",
      "harry\n",
      "eric\n",
      "raj\n",
      "tom\n",
      "rahul\n"
     ]
    }
   ],
   "source": [
    "for i in linkedin_network.keys():\n",
    "    print(i)"
   ]
  },
  {
   "cell_type": "code",
   "execution_count": 15,
   "id": "dcd5629b",
   "metadata": {},
   "outputs": [
    {
     "data": {
      "text/plain": [
       "6"
      ]
     },
     "execution_count": 15,
     "metadata": {},
     "output_type": "execute_result"
    }
   ],
   "source": [
    "len(linkedin_network.keys())"
   ]
  },
  {
   "cell_type": "code",
   "execution_count": 16,
   "id": "93327f20",
   "metadata": {},
   "outputs": [
    {
     "data": {
      "text/plain": [
       "['harry', 'eric', 'rahul']"
      ]
     },
     "execution_count": 16,
     "metadata": {},
     "output_type": "execute_result"
    }
   ],
   "source": [
    "linkedin_network[\"vimal\"]"
   ]
  },
  {
   "cell_type": "code",
   "execution_count": 17,
   "id": "04596b21",
   "metadata": {},
   "outputs": [
    {
     "data": {
      "text/plain": [
       "['vimal', 'eric']"
      ]
     },
     "execution_count": 17,
     "metadata": {},
     "output_type": "execute_result"
    }
   ],
   "source": [
    "linkedin_network[\"harry\"]"
   ]
  },
  {
   "cell_type": "code",
   "execution_count": 18,
   "id": "c01e531c",
   "metadata": {},
   "outputs": [],
   "source": [
    "linkedin_network[\"yash\"] = []"
   ]
  },
  {
   "cell_type": "code",
   "execution_count": 19,
   "id": "03c81dda",
   "metadata": {},
   "outputs": [
    {
     "data": {
      "text/plain": [
       "{'vimal': ['harry', 'eric', 'rahul'],\n",
       " 'harry': ['vimal', 'eric'],\n",
       " 'eric': ['harry', 'vimal', 'raj'],\n",
       " 'raj': ['eric', 'tom'],\n",
       " 'tom': ['rahul', 'raj'],\n",
       " 'rahul': ['vimal', 'tom'],\n",
       " 'yash': []}"
      ]
     },
     "execution_count": 19,
     "metadata": {},
     "output_type": "execute_result"
    }
   ],
   "source": [
    "linkedin_network"
   ]
  },
  {
   "cell_type": "code",
   "execution_count": 20,
   "id": "623961c0",
   "metadata": {},
   "outputs": [],
   "source": [
    "linkedin_network[\"yash\"] = [\"tom\",\"raj\"]"
   ]
  },
  {
   "cell_type": "code",
   "execution_count": 21,
   "id": "bb635ee5",
   "metadata": {},
   "outputs": [
    {
     "data": {
      "text/plain": [
       "{'vimal': ['harry', 'eric', 'rahul'],\n",
       " 'harry': ['vimal', 'eric'],\n",
       " 'eric': ['harry', 'vimal', 'raj'],\n",
       " 'raj': ['eric', 'tom'],\n",
       " 'tom': ['rahul', 'raj'],\n",
       " 'rahul': ['vimal', 'tom'],\n",
       " 'yash': ['tom', 'raj']}"
      ]
     },
     "execution_count": 21,
     "metadata": {},
     "output_type": "execute_result"
    }
   ],
   "source": [
    "linkedin_network"
   ]
  },
  {
   "cell_type": "code",
   "execution_count": 22,
   "id": "a0c350a0",
   "metadata": {},
   "outputs": [],
   "source": [
    "class Graph:\n",
    "    def __init__(self,gdict=None):\n",
    "        self.gdict = gdict"
   ]
  },
  {
   "cell_type": "code",
   "execution_count": 23,
   "id": "954a9cad",
   "metadata": {},
   "outputs": [],
   "source": [
    "o1 = Graph()"
   ]
  },
  {
   "cell_type": "code",
   "execution_count": 24,
   "id": "56953141",
   "metadata": {},
   "outputs": [],
   "source": [
    "o1.gdict"
   ]
  },
  {
   "cell_type": "code",
   "execution_count": 25,
   "id": "17439221",
   "metadata": {},
   "outputs": [],
   "source": [
    "o1 = Graph(linkedin_network)"
   ]
  },
  {
   "cell_type": "code",
   "execution_count": 26,
   "id": "7296d38e",
   "metadata": {},
   "outputs": [
    {
     "data": {
      "text/plain": [
       "{'vimal': ['harry', 'eric', 'rahul'],\n",
       " 'harry': ['vimal', 'eric'],\n",
       " 'eric': ['harry', 'vimal', 'raj'],\n",
       " 'raj': ['eric', 'tom'],\n",
       " 'tom': ['rahul', 'raj'],\n",
       " 'rahul': ['vimal', 'tom'],\n",
       " 'yash': ['tom', 'raj']}"
      ]
     },
     "execution_count": 26,
     "metadata": {},
     "output_type": "execute_result"
    }
   ],
   "source": [
    "o1.gdict"
   ]
  },
  {
   "cell_type": "code",
   "execution_count": 38,
   "id": "3cf4d33b",
   "metadata": {},
   "outputs": [],
   "source": [
    "class Graph:\n",
    "    def __init__(self,gdict=None):\n",
    "        self.gdict = gdict\n",
    "    def add_node(self,nodename):\n",
    "        if nodename not in self.gdict.keys():\n",
    "            self.gdict[nodename] = []\n",
    "        else:\n",
    "            print(\"Node already exists\")\n",
    "    def add_connection(self,fromNode,toNode):\n",
    "        if fromNode not in self.gdict.keys():\n",
    "            self.add_node(fromNode)\n",
    "        if toNode not in self.gdict.keys():\n",
    "            self.add_node(toNode)\n",
    "        if toNode not in self.gdict[fromNode] and fromNode not in self.gdict[toNode]:\n",
    "            self.gdict[fromNode].append(toNode)\n",
    "            self.gdict[toNode].append(fromNode)\n",
    "        else:\n",
    "            print(\"Connection already exists\")\n",
    "    def count_connection(self,nodename):\n",
    "        return(len(self.gdict[nodename]))"
   ]
  },
  {
   "cell_type": "code",
   "execution_count": 39,
   "id": "ae327e88",
   "metadata": {},
   "outputs": [],
   "source": [
    "o1 = Graph(linkedin_network)"
   ]
  },
  {
   "cell_type": "code",
   "execution_count": 40,
   "id": "cc1e0a73",
   "metadata": {},
   "outputs": [
    {
     "data": {
      "text/plain": [
       "{'vimal': ['harry', 'eric', 'rahul', 'hemant'],\n",
       " 'harry': ['vimal', 'eric'],\n",
       " 'eric': ['harry', 'vimal', 'raj'],\n",
       " 'raj': ['eric', 'tom'],\n",
       " 'tom': ['rahul', 'raj'],\n",
       " 'rahul': ['vimal', 'tom'],\n",
       " 'yash': ['tom', 'raj'],\n",
       " 'hemant': ['vimal'],\n",
       " 'harshit': ['rishi'],\n",
       " 'rishi': ['harshit']}"
      ]
     },
     "execution_count": 40,
     "metadata": {},
     "output_type": "execute_result"
    }
   ],
   "source": [
    "o1.gdict"
   ]
  },
  {
   "cell_type": "code",
   "execution_count": 41,
   "id": "1ca440f3",
   "metadata": {},
   "outputs": [
    {
     "name": "stdout",
     "output_type": "stream",
     "text": [
      "Connection already exists\n"
     ]
    }
   ],
   "source": [
    "o1.add_connection(\"hemant\",\"vimal\")"
   ]
  },
  {
   "cell_type": "code",
   "execution_count": 42,
   "id": "55521b0f",
   "metadata": {},
   "outputs": [
    {
     "data": {
      "text/plain": [
       "['harry', 'eric', 'rahul', 'hemant']"
      ]
     },
     "execution_count": 42,
     "metadata": {},
     "output_type": "execute_result"
    }
   ],
   "source": [
    "o1.gdict[\"vimal\"]"
   ]
  },
  {
   "cell_type": "code",
   "execution_count": 43,
   "id": "4e37f9e3",
   "metadata": {},
   "outputs": [
    {
     "data": {
      "text/plain": [
       "{'vimal': ['harry', 'eric', 'rahul', 'hemant'],\n",
       " 'harry': ['vimal', 'eric'],\n",
       " 'eric': ['harry', 'vimal', 'raj'],\n",
       " 'raj': ['eric', 'tom'],\n",
       " 'tom': ['rahul', 'raj'],\n",
       " 'rahul': ['vimal', 'tom'],\n",
       " 'yash': ['tom', 'raj'],\n",
       " 'hemant': ['vimal'],\n",
       " 'harshit': ['rishi'],\n",
       " 'rishi': ['harshit']}"
      ]
     },
     "execution_count": 43,
     "metadata": {},
     "output_type": "execute_result"
    }
   ],
   "source": [
    "o1.gdict"
   ]
  },
  {
   "cell_type": "code",
   "execution_count": 44,
   "id": "45213349",
   "metadata": {},
   "outputs": [
    {
     "name": "stdout",
     "output_type": "stream",
     "text": [
      "Connection already exists\n"
     ]
    }
   ],
   "source": [
    "o1.add_connection(\"harshit\",\"rishi\")"
   ]
  },
  {
   "cell_type": "code",
   "execution_count": 45,
   "id": "0e765e60",
   "metadata": {},
   "outputs": [
    {
     "data": {
      "text/plain": [
       "{'vimal': ['harry', 'eric', 'rahul', 'hemant'],\n",
       " 'harry': ['vimal', 'eric'],\n",
       " 'eric': ['harry', 'vimal', 'raj'],\n",
       " 'raj': ['eric', 'tom'],\n",
       " 'tom': ['rahul', 'raj'],\n",
       " 'rahul': ['vimal', 'tom'],\n",
       " 'yash': ['tom', 'raj'],\n",
       " 'hemant': ['vimal'],\n",
       " 'harshit': ['rishi'],\n",
       " 'rishi': ['harshit']}"
      ]
     },
     "execution_count": 45,
     "metadata": {},
     "output_type": "execute_result"
    }
   ],
   "source": [
    "o1.gdict"
   ]
  },
  {
   "cell_type": "code",
   "execution_count": 46,
   "id": "9f6c4b23",
   "metadata": {},
   "outputs": [
    {
     "name": "stdout",
     "output_type": "stream",
     "text": [
      "Node already exists\n"
     ]
    }
   ],
   "source": [
    "o1.add_node(\"harshit\")"
   ]
  },
  {
   "cell_type": "code",
   "execution_count": null,
   "id": "e60cf4f0",
   "metadata": {},
   "outputs": [],
   "source": []
  },
  {
   "cell_type": "code",
   "execution_count": 47,
   "id": "d6c5b2da",
   "metadata": {},
   "outputs": [
    {
     "data": {
      "text/plain": [
       "{'vimal': ['harry', 'eric', 'rahul', 'hemant'],\n",
       " 'harry': ['vimal', 'eric'],\n",
       " 'eric': ['harry', 'vimal', 'raj'],\n",
       " 'raj': ['eric', 'tom'],\n",
       " 'tom': ['rahul', 'raj'],\n",
       " 'rahul': ['vimal', 'tom'],\n",
       " 'yash': ['tom', 'raj'],\n",
       " 'hemant': ['vimal'],\n",
       " 'harshit': ['rishi'],\n",
       " 'rishi': ['harshit']}"
      ]
     },
     "execution_count": 47,
     "metadata": {},
     "output_type": "execute_result"
    }
   ],
   "source": [
    "o1.gdict"
   ]
  },
  {
   "cell_type": "code",
   "execution_count": null,
   "id": "2eefdda4",
   "metadata": {},
   "outputs": [],
   "source": []
  },
  {
   "cell_type": "code",
   "execution_count": null,
   "id": "8fdd0cfc",
   "metadata": {},
   "outputs": [],
   "source": []
  },
  {
   "cell_type": "code",
   "execution_count": 49,
   "id": "71bc086c",
   "metadata": {},
   "outputs": [
    {
     "data": {
      "text/plain": [
       "4"
      ]
     },
     "execution_count": 49,
     "metadata": {},
     "output_type": "execute_result"
    }
   ],
   "source": [
    "o1.count_connection(\"vimal\")"
   ]
  },
  {
   "cell_type": "code",
   "execution_count": null,
   "id": "62a300d9",
   "metadata": {},
   "outputs": [],
   "source": []
  }
 ],
 "metadata": {
  "kernelspec": {
   "display_name": "Python 3",
   "language": "python",
   "name": "python3"
  },
  "language_info": {
   "codemirror_mode": {
    "name": "ipython",
    "version": 3
   },
   "file_extension": ".py",
   "mimetype": "text/x-python",
   "name": "python",
   "nbconvert_exporter": "python",
   "pygments_lexer": "ipython3",
   "version": "3.7.10"
  }
 },
 "nbformat": 4,
 "nbformat_minor": 5
}
